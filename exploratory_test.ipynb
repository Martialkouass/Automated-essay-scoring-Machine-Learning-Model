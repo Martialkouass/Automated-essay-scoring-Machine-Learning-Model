{
 "cells": [
  {
   "cell_type": "code",
   "execution_count": 14,
   "metadata": {},
   "outputs": [
    {
     "name": "stdout",
     "output_type": "stream",
     "text": [
      "Note: you may need to restart the kernel to use updated packages.\n"
     ]
    }
   ],
   "source": [
    "pip freeze > requirements.txt\n"
   ]
  },
  {
   "cell_type": "code",
   "execution_count": 15,
   "metadata": {},
   "outputs": [
    {
     "data": {
      "text/html": [
       "<div>\n",
       "<style scoped>\n",
       "    .dataframe tbody tr th:only-of-type {\n",
       "        vertical-align: middle;\n",
       "    }\n",
       "\n",
       "    .dataframe tbody tr th {\n",
       "        vertical-align: top;\n",
       "    }\n",
       "\n",
       "    .dataframe thead th {\n",
       "        text-align: right;\n",
       "    }\n",
       "</style>\n",
       "<table border=\"1\" class=\"dataframe\">\n",
       "  <thead>\n",
       "    <tr style=\"text-align: right;\">\n",
       "      <th></th>\n",
       "      <th>essay_id</th>\n",
       "      <th>essay_set</th>\n",
       "      <th>essay</th>\n",
       "      <th>domain1_predictionid</th>\n",
       "      <th>domain2_predictionid</th>\n",
       "    </tr>\n",
       "  </thead>\n",
       "  <tbody>\n",
       "    <tr>\n",
       "      <th>0</th>\n",
       "      <td>2383</td>\n",
       "      <td>1</td>\n",
       "      <td>I believe that computers have a positive effec...</td>\n",
       "      <td>2383</td>\n",
       "      <td>NaN</td>\n",
       "    </tr>\n",
       "    <tr>\n",
       "      <th>1</th>\n",
       "      <td>2384</td>\n",
       "      <td>1</td>\n",
       "      <td>Dear @CAPS1, I know some problems have came up...</td>\n",
       "      <td>2384</td>\n",
       "      <td>NaN</td>\n",
       "    </tr>\n",
       "    <tr>\n",
       "      <th>2</th>\n",
       "      <td>2385</td>\n",
       "      <td>1</td>\n",
       "      <td>Dear to whom it @MONTH1 concern, Computers are...</td>\n",
       "      <td>2385</td>\n",
       "      <td>NaN</td>\n",
       "    </tr>\n",
       "    <tr>\n",
       "      <th>3</th>\n",
       "      <td>2386</td>\n",
       "      <td>1</td>\n",
       "      <td>Dear @CAPS1 @CAPS2, @CAPS3 has come to my atte...</td>\n",
       "      <td>2386</td>\n",
       "      <td>NaN</td>\n",
       "    </tr>\n",
       "    <tr>\n",
       "      <th>4</th>\n",
       "      <td>2387</td>\n",
       "      <td>1</td>\n",
       "      <td>Dear Local newspaper, I think that people have...</td>\n",
       "      <td>2387</td>\n",
       "      <td>NaN</td>\n",
       "    </tr>\n",
       "  </tbody>\n",
       "</table>\n",
       "</div>"
      ],
      "text/plain": [
       "   essay_id  essay_set                                              essay  \\\n",
       "0      2383          1  I believe that computers have a positive effec...   \n",
       "1      2384          1  Dear @CAPS1, I know some problems have came up...   \n",
       "2      2385          1  Dear to whom it @MONTH1 concern, Computers are...   \n",
       "3      2386          1  Dear @CAPS1 @CAPS2, @CAPS3 has come to my atte...   \n",
       "4      2387          1  Dear Local newspaper, I think that people have...   \n",
       "\n",
       "   domain1_predictionid  domain2_predictionid  \n",
       "0                  2383                   NaN  \n",
       "1                  2384                   NaN  \n",
       "2                  2385                   NaN  \n",
       "3                  2386                   NaN  \n",
       "4                  2387                   NaN  "
      ]
     },
     "execution_count": 15,
     "metadata": {},
     "output_type": "execute_result"
    }
   ],
   "source": [
    "import pandas as pd\n",
    "\n",
    "df_test_set = pd.read_csv('test_set.tsv',sep='\\t',encoding='latin1')\n",
    "df_test_set.head()"
   ]
  },
  {
   "cell_type": "code",
   "execution_count": 17,
   "metadata": {},
   "outputs": [
    {
     "data": {
      "text/html": [
       "<div>\n",
       "<style scoped>\n",
       "    .dataframe tbody tr th:only-of-type {\n",
       "        vertical-align: middle;\n",
       "    }\n",
       "\n",
       "    .dataframe tbody tr th {\n",
       "        vertical-align: top;\n",
       "    }\n",
       "\n",
       "    .dataframe thead th {\n",
       "        text-align: right;\n",
       "    }\n",
       "</style>\n",
       "<table border=\"1\" class=\"dataframe\">\n",
       "  <thead>\n",
       "    <tr style=\"text-align: right;\">\n",
       "      <th></th>\n",
       "      <th>essay_id</th>\n",
       "      <th>essay_set</th>\n",
       "      <th>essay</th>\n",
       "      <th>domain1_predictionid</th>\n",
       "      <th>domain2_predictionid</th>\n",
       "    </tr>\n",
       "  </thead>\n",
       "  <tbody>\n",
       "    <tr>\n",
       "      <th>4249</th>\n",
       "      <td>22238</td>\n",
       "      <td>8</td>\n",
       "      <td>Just One @CAPS1 @CAPS2 can bring people togeth...</td>\n",
       "      <td>25238</td>\n",
       "      <td>NaN</td>\n",
       "    </tr>\n",
       "    <tr>\n",
       "      <th>4250</th>\n",
       "      <td>22239</td>\n",
       "      <td>8</td>\n",
       "      <td>@CAPS8 Was my first time going to the band ca...</td>\n",
       "      <td>25239</td>\n",
       "      <td>NaN</td>\n",
       "    </tr>\n",
       "    <tr>\n",
       "      <th>4251</th>\n",
       "      <td>22240</td>\n",
       "      <td>8</td>\n",
       "      <td>Laughter is one of the most important things i...</td>\n",
       "      <td>25240</td>\n",
       "      <td>NaN</td>\n",
       "    </tr>\n",
       "    <tr>\n",
       "      <th>4252</th>\n",
       "      <td>22241</td>\n",
       "      <td>8</td>\n",
       "      <td>A @CAPS1 Of @C...</td>\n",
       "      <td>25241</td>\n",
       "      <td>NaN</td>\n",
       "    </tr>\n",
       "    <tr>\n",
       "      <th>4253</th>\n",
       "      <td>22242</td>\n",
       "      <td>8</td>\n",
       "      <td>Good @CAPS1 In @LOCATION1.  Every year a sel...</td>\n",
       "      <td>25242</td>\n",
       "      <td>NaN</td>\n",
       "    </tr>\n",
       "  </tbody>\n",
       "</table>\n",
       "</div>"
      ],
      "text/plain": [
       "      essay_id  essay_set                                              essay  \\\n",
       "4249     22238          8  Just One @CAPS1 @CAPS2 can bring people togeth...   \n",
       "4250     22239          8   @CAPS8 Was my first time going to the band ca...   \n",
       "4251     22240          8  Laughter is one of the most important things i...   \n",
       "4252     22241          8                                  A @CAPS1 Of @C...   \n",
       "4253     22242          8    Good @CAPS1 In @LOCATION1.  Every year a sel...   \n",
       "\n",
       "      domain1_predictionid  domain2_predictionid  \n",
       "4249                 25238                   NaN  \n",
       "4250                 25239                   NaN  \n",
       "4251                 25240                   NaN  \n",
       "4252                 25241                   NaN  \n",
       "4253                 25242                   NaN  "
      ]
     },
     "execution_count": 17,
     "metadata": {},
     "output_type": "execute_result"
    }
   ],
   "source": [
    "df_test_set.tail()"
   ]
  },
  {
   "cell_type": "code",
   "execution_count": 16,
   "metadata": {},
   "outputs": [
    {
     "data": {
      "text/plain": [
       "<bound method NDFrame.describe of       essay_id  essay_set                                              essay  \\\n",
       "0         2383          1  I believe that computers have a positive effec...   \n",
       "1         2384          1  Dear @CAPS1, I know some problems have came up...   \n",
       "2         2385          1  Dear to whom it @MONTH1 concern, Computers are...   \n",
       "3         2386          1  Dear @CAPS1 @CAPS2, @CAPS3 has come to my atte...   \n",
       "4         2387          1  Dear Local newspaper, I think that people have...   \n",
       "...        ...        ...                                                ...   \n",
       "4249     22238          8  Just One @CAPS1 @CAPS2 can bring people togeth...   \n",
       "4250     22239          8   @CAPS8 Was my first time going to the band ca...   \n",
       "4251     22240          8  Laughter is one of the most important things i...   \n",
       "4252     22241          8                                  A @CAPS1 Of @C...   \n",
       "4253     22242          8    Good @CAPS1 In @LOCATION1.  Every year a sel...   \n",
       "\n",
       "      domain1_predictionid  domain2_predictionid  \n",
       "0                     2383                   NaN  \n",
       "1                     2384                   NaN  \n",
       "2                     2385                   NaN  \n",
       "3                     2386                   NaN  \n",
       "4                     2387                   NaN  \n",
       "...                    ...                   ...  \n",
       "4249                 25238                   NaN  \n",
       "4250                 25239                   NaN  \n",
       "4251                 25240                   NaN  \n",
       "4252                 25241                   NaN  \n",
       "4253                 25242                   NaN  \n",
       "\n",
       "[4254 rows x 5 columns]>"
      ]
     },
     "execution_count": 16,
     "metadata": {},
     "output_type": "execute_result"
    }
   ],
   "source": [
    "df_test_set.describe"
   ]
  },
  {
   "cell_type": "code",
   "execution_count": 18,
   "metadata": {},
   "outputs": [
    {
     "data": {
      "text/plain": [
       "<bound method NDFrame.describe of       essay_id  essay_set                                              essay  \\\n",
       "0         1788          1  Dear @ORGANIZATION1, @CAPS1 more and more peop...   \n",
       "1         1789          1  Dear @LOCATION1 Time @CAPS1 me tell you what I...   \n",
       "2         1790          1  Dear Local newspaper, Have you been spending a...   \n",
       "3         1791          1  Dear Readers, @CAPS1 you imagine how life woul...   \n",
       "4         1792          1  Dear newspaper, I strongly believe that comput...   \n",
       "...        ...        ...                                                ...   \n",
       "4213     21933          8   Have you ever noticed that if two little kids...   \n",
       "4214     21934          8                              Laughter @CAPS1 I ...   \n",
       "4215     21935          8   Laughter in @CAPS1 A laugh is not just an act...   \n",
       "4216     21937          8    LAUGHTER @CAPS1 i was younger my friend live...   \n",
       "4217     21938          8   You know how the saying goes live, laugh, lov...   \n",
       "\n",
       "      domain1_predictionid  domain2_predictionid  \n",
       "0                     1788                   NaN  \n",
       "1                     1789                   NaN  \n",
       "2                     1790                   NaN  \n",
       "3                     1791                   NaN  \n",
       "4                     1792                   NaN  \n",
       "...                    ...                   ...  \n",
       "4213                 24933                   NaN  \n",
       "4214                 24934                   NaN  \n",
       "4215                 24935                   NaN  \n",
       "4216                 24937                   NaN  \n",
       "4217                 24938                   NaN  \n",
       "\n",
       "[4218 rows x 5 columns]>"
      ]
     },
     "execution_count": 18,
     "metadata": {},
     "output_type": "execute_result"
    }
   ],
   "source": [
    "df_valid_set = pd.read_csv('valid_set.tsv',sep='\\t',encoding='latin1')\n",
    "\n",
    "df_valid_set.describe"
   ]
  },
  {
   "cell_type": "code",
   "execution_count": 19,
   "metadata": {},
   "outputs": [
    {
     "data": {
      "text/html": [
       "<div>\n",
       "<style scoped>\n",
       "    .dataframe tbody tr th:only-of-type {\n",
       "        vertical-align: middle;\n",
       "    }\n",
       "\n",
       "    .dataframe tbody tr th {\n",
       "        vertical-align: top;\n",
       "    }\n",
       "\n",
       "    .dataframe thead th {\n",
       "        text-align: right;\n",
       "    }\n",
       "</style>\n",
       "<table border=\"1\" class=\"dataframe\">\n",
       "  <thead>\n",
       "    <tr style=\"text-align: right;\">\n",
       "      <th></th>\n",
       "      <th>essay_id</th>\n",
       "      <th>essay_set</th>\n",
       "      <th>essay</th>\n",
       "      <th>domain1_predictionid</th>\n",
       "      <th>domain2_predictionid</th>\n",
       "    </tr>\n",
       "  </thead>\n",
       "  <tbody>\n",
       "    <tr>\n",
       "      <th>0</th>\n",
       "      <td>1788</td>\n",
       "      <td>1</td>\n",
       "      <td>Dear @ORGANIZATION1, @CAPS1 more and more peop...</td>\n",
       "      <td>1788</td>\n",
       "      <td>NaN</td>\n",
       "    </tr>\n",
       "    <tr>\n",
       "      <th>1</th>\n",
       "      <td>1789</td>\n",
       "      <td>1</td>\n",
       "      <td>Dear @LOCATION1 Time @CAPS1 me tell you what I...</td>\n",
       "      <td>1789</td>\n",
       "      <td>NaN</td>\n",
       "    </tr>\n",
       "    <tr>\n",
       "      <th>2</th>\n",
       "      <td>1790</td>\n",
       "      <td>1</td>\n",
       "      <td>Dear Local newspaper, Have you been spending a...</td>\n",
       "      <td>1790</td>\n",
       "      <td>NaN</td>\n",
       "    </tr>\n",
       "    <tr>\n",
       "      <th>3</th>\n",
       "      <td>1791</td>\n",
       "      <td>1</td>\n",
       "      <td>Dear Readers, @CAPS1 you imagine how life woul...</td>\n",
       "      <td>1791</td>\n",
       "      <td>NaN</td>\n",
       "    </tr>\n",
       "    <tr>\n",
       "      <th>4</th>\n",
       "      <td>1792</td>\n",
       "      <td>1</td>\n",
       "      <td>Dear newspaper, I strongly believe that comput...</td>\n",
       "      <td>1792</td>\n",
       "      <td>NaN</td>\n",
       "    </tr>\n",
       "  </tbody>\n",
       "</table>\n",
       "</div>"
      ],
      "text/plain": [
       "   essay_id  essay_set                                              essay  \\\n",
       "0      1788          1  Dear @ORGANIZATION1, @CAPS1 more and more peop...   \n",
       "1      1789          1  Dear @LOCATION1 Time @CAPS1 me tell you what I...   \n",
       "2      1790          1  Dear Local newspaper, Have you been spending a...   \n",
       "3      1791          1  Dear Readers, @CAPS1 you imagine how life woul...   \n",
       "4      1792          1  Dear newspaper, I strongly believe that comput...   \n",
       "\n",
       "   domain1_predictionid  domain2_predictionid  \n",
       "0                  1788                   NaN  \n",
       "1                  1789                   NaN  \n",
       "2                  1790                   NaN  \n",
       "3                  1791                   NaN  \n",
       "4                  1792                   NaN  "
      ]
     },
     "execution_count": 19,
     "metadata": {},
     "output_type": "execute_result"
    }
   ],
   "source": [
    "df_valid_set.head()"
   ]
  },
  {
   "cell_type": "code",
   "execution_count": null,
   "metadata": {},
   "outputs": [],
   "source": []
  }
 ],
 "metadata": {
  "kernelspec": {
   "display_name": "Python 3 (ipykernel)",
   "language": "python",
   "name": "python3"
  },
  "language_info": {
   "codemirror_mode": {
    "name": "ipython",
    "version": 3
   },
   "file_extension": ".py",
   "mimetype": "text/x-python",
   "name": "python",
   "nbconvert_exporter": "python",
   "pygments_lexer": "ipython3",
   "version": "3.9.0"
  }
 },
 "nbformat": 4,
 "nbformat_minor": 2
}
